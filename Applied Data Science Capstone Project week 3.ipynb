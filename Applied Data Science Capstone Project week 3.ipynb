{
 "cells": [
  {
   "cell_type": "markdown",
   "metadata": {
    "collapsed": true
   },
   "source": [
    "This note will be used for the data science capstone project"
   ]
  },
  {
   "cell_type": "markdown",
   "metadata": {},
   "source": [
    "Create dataframe of Neighborhoods in Toronto"
   ]
  },
  {
   "cell_type": "markdown",
   "metadata": {},
   "source": [
    "I'm using the same note book for week 3."
   ]
  },
  {
   "cell_type": "code",
   "execution_count": 8,
   "metadata": {},
   "outputs": [],
   "source": [
    "#imports\n",
    "import requests\n",
    "import lxml.html as lh\n",
    "import bs4 as bs\n",
    "import urllib.request\n",
    "import numpy as np \n",
    "import pandas as pd"
   ]
  },
  {
   "cell_type": "code",
   "execution_count": 9,
   "metadata": {},
   "outputs": [],
   "source": [
    "#Getting the data from url\n",
    "url = \"https://en.wikipedia.org/wiki/List_of_postal_codes_of_Canada:_M\"\n",
    "res = requests.get(url)\n",
    "soup = bs.BeautifulSoup(res.content,'lxml')\n",
    "table = soup.find_all('table')[0]               \n",
    "df = pd.read_html(str(table))                       # read wiki table and put into a dataframe\n",
    "data = pd.read_json(df[0].to_json(orient='records')) # update to allow for editing"
   ]
  },
  {
   "cell_type": "code",
   "execution_count": 10,
   "metadata": {},
   "outputs": [
    {
     "data": {
      "text/html": [
       "<div>\n",
       "<style scoped>\n",
       "    .dataframe tbody tr th:only-of-type {\n",
       "        vertical-align: middle;\n",
       "    }\n",
       "\n",
       "    .dataframe tbody tr th {\n",
       "        vertical-align: top;\n",
       "    }\n",
       "\n",
       "    .dataframe thead th {\n",
       "        text-align: right;\n",
       "    }\n",
       "</style>\n",
       "<table border=\"1\" class=\"dataframe\">\n",
       "  <thead>\n",
       "    <tr style=\"text-align: right;\">\n",
       "      <th></th>\n",
       "      <th>Borough</th>\n",
       "      <th>Neighborhood</th>\n",
       "      <th>Postal Code</th>\n",
       "    </tr>\n",
       "  </thead>\n",
       "  <tbody>\n",
       "    <tr>\n",
       "      <th>0</th>\n",
       "      <td>Not assigned</td>\n",
       "      <td>Not assigned</td>\n",
       "      <td>M1A</td>\n",
       "    </tr>\n",
       "    <tr>\n",
       "      <th>1</th>\n",
       "      <td>Not assigned</td>\n",
       "      <td>Not assigned</td>\n",
       "      <td>M2A</td>\n",
       "    </tr>\n",
       "    <tr>\n",
       "      <th>2</th>\n",
       "      <td>North York</td>\n",
       "      <td>Parkwoods</td>\n",
       "      <td>M3A</td>\n",
       "    </tr>\n",
       "    <tr>\n",
       "      <th>3</th>\n",
       "      <td>North York</td>\n",
       "      <td>Victoria Village</td>\n",
       "      <td>M4A</td>\n",
       "    </tr>\n",
       "    <tr>\n",
       "      <th>4</th>\n",
       "      <td>Downtown Toronto</td>\n",
       "      <td>Regent Park, Harbourfront</td>\n",
       "      <td>M5A</td>\n",
       "    </tr>\n",
       "  </tbody>\n",
       "</table>\n",
       "</div>"
      ],
      "text/plain": [
       "            Borough               Neighborhood Postal Code\n",
       "0      Not assigned               Not assigned         M1A\n",
       "1      Not assigned               Not assigned         M2A\n",
       "2        North York                  Parkwoods         M3A\n",
       "3        North York           Victoria Village         M4A\n",
       "4  Downtown Toronto  Regent Park, Harbourfront         M5A"
      ]
     },
     "execution_count": 10,
     "metadata": {},
     "output_type": "execute_result"
    }
   ],
   "source": [
    "data.head()"
   ]
  },
  {
   "cell_type": "code",
   "execution_count": 11,
   "metadata": {},
   "outputs": [
    {
     "data": {
      "text/html": [
       "<div>\n",
       "<style scoped>\n",
       "    .dataframe tbody tr th:only-of-type {\n",
       "        vertical-align: middle;\n",
       "    }\n",
       "\n",
       "    .dataframe tbody tr th {\n",
       "        vertical-align: top;\n",
       "    }\n",
       "\n",
       "    .dataframe thead th {\n",
       "        text-align: right;\n",
       "    }\n",
       "</style>\n",
       "<table border=\"1\" class=\"dataframe\">\n",
       "  <thead>\n",
       "    <tr style=\"text-align: right;\">\n",
       "      <th></th>\n",
       "      <th>Borough</th>\n",
       "      <th>Postal Code</th>\n",
       "      <th>Neighborhood</th>\n",
       "    </tr>\n",
       "  </thead>\n",
       "  <tbody>\n",
       "    <tr>\n",
       "      <th>0</th>\n",
       "      <td>Central Toronto</td>\n",
       "      <td>M4N</td>\n",
       "      <td>Lawrence Park</td>\n",
       "    </tr>\n",
       "    <tr>\n",
       "      <th>1</th>\n",
       "      <td>Central Toronto</td>\n",
       "      <td>M4P</td>\n",
       "      <td>Davisville North</td>\n",
       "    </tr>\n",
       "    <tr>\n",
       "      <th>2</th>\n",
       "      <td>Central Toronto</td>\n",
       "      <td>M4R</td>\n",
       "      <td>North Toronto West, Lawrence Park</td>\n",
       "    </tr>\n",
       "    <tr>\n",
       "      <th>3</th>\n",
       "      <td>Central Toronto</td>\n",
       "      <td>M4S</td>\n",
       "      <td>Davisville</td>\n",
       "    </tr>\n",
       "    <tr>\n",
       "      <th>4</th>\n",
       "      <td>Central Toronto</td>\n",
       "      <td>M4T</td>\n",
       "      <td>Moore Park, Summerhill East</td>\n",
       "    </tr>\n",
       "  </tbody>\n",
       "</table>\n",
       "</div>"
      ],
      "text/plain": [
       "           Borough Postal Code                       Neighborhood\n",
       "0  Central Toronto         M4N                      Lawrence Park\n",
       "1  Central Toronto         M4P                   Davisville North\n",
       "2  Central Toronto         M4R  North Toronto West, Lawrence Park\n",
       "3  Central Toronto         M4S                         Davisville\n",
       "4  Central Toronto         M4T        Moore Park, Summerhill East"
      ]
     },
     "execution_count": 11,
     "metadata": {},
     "output_type": "execute_result"
    }
   ],
   "source": [
    "#Choosing only data where field Borough doesn't have not assigned value\n",
    "raw_data_selected = data[data['Borough'] != 'Not assigned']\n",
    "#Grouping Data\n",
    "raw_data_selected = raw_data_selected.groupby(['Borough', 'Postal Code'], as_index=False).agg(','.join)\n",
    "raw_data_selected.head()"
   ]
  },
  {
   "cell_type": "code",
   "execution_count": 12,
   "metadata": {},
   "outputs": [],
   "source": [
    "#Replacing values in Neighbourhood field with Borough where Neighbourhood is not assigned\n",
    "raw_data_selected['Neighborhood'] = np.where(raw_data_selected['Neighborhood'] == 'Not assigned', raw_data_selected['Borough'], raw_data_selected['Neighborhood'])"
   ]
  },
  {
   "cell_type": "markdown",
   "metadata": {},
   "source": [
    "# Final View of the Dataframe from question 1"
   ]
  },
  {
   "cell_type": "code",
   "execution_count": 16,
   "metadata": {},
   "outputs": [
    {
     "data": {
      "text/html": [
       "<div>\n",
       "<style scoped>\n",
       "    .dataframe tbody tr th:only-of-type {\n",
       "        vertical-align: middle;\n",
       "    }\n",
       "\n",
       "    .dataframe tbody tr th {\n",
       "        vertical-align: top;\n",
       "    }\n",
       "\n",
       "    .dataframe thead th {\n",
       "        text-align: right;\n",
       "    }\n",
       "</style>\n",
       "<table border=\"1\" class=\"dataframe\">\n",
       "  <thead>\n",
       "    <tr style=\"text-align: right;\">\n",
       "      <th></th>\n",
       "      <th>Postal Code</th>\n",
       "      <th>Borough</th>\n",
       "      <th>Neighborhood</th>\n",
       "    </tr>\n",
       "  </thead>\n",
       "  <tbody>\n",
       "    <tr>\n",
       "      <th>0</th>\n",
       "      <td>M4N</td>\n",
       "      <td>Central Toronto</td>\n",
       "      <td>Lawrence Park</td>\n",
       "    </tr>\n",
       "    <tr>\n",
       "      <th>1</th>\n",
       "      <td>M4P</td>\n",
       "      <td>Central Toronto</td>\n",
       "      <td>Davisville North</td>\n",
       "    </tr>\n",
       "    <tr>\n",
       "      <th>2</th>\n",
       "      <td>M4R</td>\n",
       "      <td>Central Toronto</td>\n",
       "      <td>North Toronto West, Lawrence Park</td>\n",
       "    </tr>\n",
       "    <tr>\n",
       "      <th>3</th>\n",
       "      <td>M4S</td>\n",
       "      <td>Central Toronto</td>\n",
       "      <td>Davisville</td>\n",
       "    </tr>\n",
       "    <tr>\n",
       "      <th>4</th>\n",
       "      <td>M4T</td>\n",
       "      <td>Central Toronto</td>\n",
       "      <td>Moore Park, Summerhill East</td>\n",
       "    </tr>\n",
       "  </tbody>\n",
       "</table>\n",
       "</div>"
      ],
      "text/plain": [
       "  Postal Code          Borough                       Neighborhood\n",
       "0         M4N  Central Toronto                      Lawrence Park\n",
       "1         M4P  Central Toronto                   Davisville North\n",
       "2         M4R  Central Toronto  North Toronto West, Lawrence Park\n",
       "3         M4S  Central Toronto                         Davisville\n",
       "4         M4T  Central Toronto        Moore Park, Summerhill East"
      ]
     },
     "execution_count": 16,
     "metadata": {},
     "output_type": "execute_result"
    }
   ],
   "source": [
    "dffinal = raw_data_selected[['Postal Code','Borough','Neighborhood']] # reset column order to align with requirement\n",
    "dffinal.head()"
   ]
  },
  {
   "cell_type": "code",
   "execution_count": 17,
   "metadata": {},
   "outputs": [
    {
     "data": {
      "text/plain": [
       "(103, 3)"
      ]
     },
     "execution_count": 17,
     "metadata": {},
     "output_type": "execute_result"
    }
   ],
   "source": [
    "# Shape of DF\n",
    "dffinal.shape"
   ]
  },
  {
   "cell_type": "markdown",
   "metadata": {},
   "source": [
    "# The below cells add the geospatial data to a new dataframe"
   ]
  },
  {
   "cell_type": "code",
   "execution_count": 18,
   "metadata": {},
   "outputs": [
    {
     "name": "stdout",
     "output_type": "stream",
     "text": [
      "--2020-06-18 23:50:16--  http://cocl.us/Geospatial_data\n",
      "Resolving cocl.us (cocl.us)... 159.8.69.21, 159.8.69.24, 159.8.72.228\n",
      "Connecting to cocl.us (cocl.us)|159.8.69.21|:80... connected.\n",
      "HTTP request sent, awaiting response... 301 Moved Permanently\n",
      "Location: https://cocl.us/Geospatial_data [following]\n",
      "--2020-06-18 23:50:16--  https://cocl.us/Geospatial_data\n",
      "Connecting to cocl.us (cocl.us)|159.8.69.21|:443... connected.\n",
      "HTTP request sent, awaiting response... 301 Moved Permanently\n",
      "Location: https://ibm.box.com/shared/static/9afzr83pps4pwf2smjjcf1y5mvgb18rr.csv [following]\n",
      "--2020-06-18 23:50:18--  https://ibm.box.com/shared/static/9afzr83pps4pwf2smjjcf1y5mvgb18rr.csv\n",
      "Resolving ibm.box.com (ibm.box.com)... 185.235.236.197\n",
      "Connecting to ibm.box.com (ibm.box.com)|185.235.236.197|:443... connected.\n",
      "HTTP request sent, awaiting response... 301 Moved Permanently\n",
      "Location: /public/static/9afzr83pps4pwf2smjjcf1y5mvgb18rr.csv [following]\n",
      "--2020-06-18 23:50:18--  https://ibm.box.com/public/static/9afzr83pps4pwf2smjjcf1y5mvgb18rr.csv\n",
      "Reusing existing connection to ibm.box.com:443.\n",
      "HTTP request sent, awaiting response... 301 Moved Permanently\n",
      "Location: https://ibm.ent.box.com/public/static/9afzr83pps4pwf2smjjcf1y5mvgb18rr.csv [following]\n",
      "--2020-06-18 23:50:19--  https://ibm.ent.box.com/public/static/9afzr83pps4pwf2smjjcf1y5mvgb18rr.csv\n",
      "Resolving ibm.ent.box.com (ibm.ent.box.com)... 107.152.29.201\n",
      "Connecting to ibm.ent.box.com (ibm.ent.box.com)|107.152.29.201|:443... connected.\n",
      "HTTP request sent, awaiting response... 302 Found\n",
      "Location: https://public.boxcloud.com/d/1/b1!vQAkKaIuyG6IDeFYtnbSZw1yPjabYioKPe7RSwtDi0o_XUOP6osy98iPTkFQRxnZG7f5nyELp_s43nqOPOJn8nzqBo2yKn5Dpv7Rhg0TTIJAIcy4FXm2KOKNVq7tcIrgm6eTDBB0wz-PvKRnDpYZMjv2cHwjJYVAP8MbAqc6dXRmpVQ6Km5VScXfO3jUy6v2VsFhhdbQFLxfYe_B4NKalwsRbzIEaOJTljt9nHuT6QpwpSwXTR_0PjU6zgkMyD6QUhd9-aQmxtoMUxT2Cid6i1sbBJ2JBRsqDF-PrxO1Bw3SacJHdmUFW4PSP1XFdQtSO7HK27J0tUpzf0JGS_3kdpa65FJD8UGdlyEd5Of6XiRPi66NJaXH0eo9qLQXVypGNcFBSxrxLZjKcIMQn39cZ0MyR116RmUBgKE_p2iAP6PGXHUJUXXrdCfcZdzXaWmsmDbnkxZrsWIMs7zcWbBDBy-qttg7jSMkmVFdBKMDdSdT7a3qGEFaMA_g85P8sz-qklX4t6dNGqc02I-W7KQjdaQS7E2NFwng5tN-Ky3sczfSYy1faDitcsIXujp1GExuvr7MKSNa1h9Gk4zqtsx9DA_pu63QH6rQmy_0eCtkabB3YlNYvMHCzw0xKpYzVBrg9UvV6CLGVHL9sNuTUBlNLARancqhJFgofYL9K1Yj6rvavxs2tY6l3FaL_QZHxzVQ5VRIEWazXZR3umfjkWWIqO2UCEYSqWOAAY9rkxBW8WZCbrcs45vhaz50o5aC9ikuL_QXUBsilKKiJ2Ugumpm_q8QLCuorQawCJYrKsdKaqVRZ_b-cU2mPaBHxg4vejlXFe6TNQPrbdK4nF3ccAfK3FQGM49C8unWssgU3mfLgzB8OHFEt8noxb5f0JCDGS31Yfyv-cgg8vpmXcLuA_BnW4RDQC1bNgBu1dkbc6-7c1yoAYG-tcGIjhsuxEreGfw4O9AAlTSp2ByqCEKp2UPwyOgov7BriuHAVuduinahZLXDIo-biQlFEyJwVfAA8prykJ33AbzVnZLXpCawYRm0O3AfudHxo9mH9Bpkvnqz4QH3ujJQSQHf_RkpkZf7mZLxklHo_QExsp4T7jHLIWOYJhxxWhPbTpNytlyiGYHUiFTDy4TI3HVpirnJORC6oakdkS5tzYX6d6xkQWAO9tPOiODesZelPcWqQSPU7-4soWsFZUpBMu_Wi6N2F5udvtZkikprEJMyCr-GyB9GDoE-DIpwiib6sT5fc6M38ZAXV2q4SIAvdnP4rqY2hnDX5J5ml4DW-oha3dNQS1V8O22NhZDqI6vJBHxckgA3hYqdpdN0n2tXBlEF3gqsYs53U21i_M_gGmbfNE3Zm1x4M8bOH0hzX6KPA4GCHhsbIU8omBun33Wa2PPiVPlvTe2bZ-xTzwgV4aHp9qG4OOTrrr036Q1AY-E7JRSmByrYitXK3lDF/download [following]\n",
      "--2020-06-18 23:50:22--  https://public.boxcloud.com/d/1/b1!vQAkKaIuyG6IDeFYtnbSZw1yPjabYioKPe7RSwtDi0o_XUOP6osy98iPTkFQRxnZG7f5nyELp_s43nqOPOJn8nzqBo2yKn5Dpv7Rhg0TTIJAIcy4FXm2KOKNVq7tcIrgm6eTDBB0wz-PvKRnDpYZMjv2cHwjJYVAP8MbAqc6dXRmpVQ6Km5VScXfO3jUy6v2VsFhhdbQFLxfYe_B4NKalwsRbzIEaOJTljt9nHuT6QpwpSwXTR_0PjU6zgkMyD6QUhd9-aQmxtoMUxT2Cid6i1sbBJ2JBRsqDF-PrxO1Bw3SacJHdmUFW4PSP1XFdQtSO7HK27J0tUpzf0JGS_3kdpa65FJD8UGdlyEd5Of6XiRPi66NJaXH0eo9qLQXVypGNcFBSxrxLZjKcIMQn39cZ0MyR116RmUBgKE_p2iAP6PGXHUJUXXrdCfcZdzXaWmsmDbnkxZrsWIMs7zcWbBDBy-qttg7jSMkmVFdBKMDdSdT7a3qGEFaMA_g85P8sz-qklX4t6dNGqc02I-W7KQjdaQS7E2NFwng5tN-Ky3sczfSYy1faDitcsIXujp1GExuvr7MKSNa1h9Gk4zqtsx9DA_pu63QH6rQmy_0eCtkabB3YlNYvMHCzw0xKpYzVBrg9UvV6CLGVHL9sNuTUBlNLARancqhJFgofYL9K1Yj6rvavxs2tY6l3FaL_QZHxzVQ5VRIEWazXZR3umfjkWWIqO2UCEYSqWOAAY9rkxBW8WZCbrcs45vhaz50o5aC9ikuL_QXUBsilKKiJ2Ugumpm_q8QLCuorQawCJYrKsdKaqVRZ_b-cU2mPaBHxg4vejlXFe6TNQPrbdK4nF3ccAfK3FQGM49C8unWssgU3mfLgzB8OHFEt8noxb5f0JCDGS31Yfyv-cgg8vpmXcLuA_BnW4RDQC1bNgBu1dkbc6-7c1yoAYG-tcGIjhsuxEreGfw4O9AAlTSp2ByqCEKp2UPwyOgov7BriuHAVuduinahZLXDIo-biQlFEyJwVfAA8prykJ33AbzVnZLXpCawYRm0O3AfudHxo9mH9Bpkvnqz4QH3ujJQSQHf_RkpkZf7mZLxklHo_QExsp4T7jHLIWOYJhxxWhPbTpNytlyiGYHUiFTDy4TI3HVpirnJORC6oakdkS5tzYX6d6xkQWAO9tPOiODesZelPcWqQSPU7-4soWsFZUpBMu_Wi6N2F5udvtZkikprEJMyCr-GyB9GDoE-DIpwiib6sT5fc6M38ZAXV2q4SIAvdnP4rqY2hnDX5J5ml4DW-oha3dNQS1V8O22NhZDqI6vJBHxckgA3hYqdpdN0n2tXBlEF3gqsYs53U21i_M_gGmbfNE3Zm1x4M8bOH0hzX6KPA4GCHhsbIU8omBun33Wa2PPiVPlvTe2bZ-xTzwgV4aHp9qG4OOTrrr036Q1AY-E7JRSmByrYitXK3lDF/download\n",
      "Resolving public.boxcloud.com (public.boxcloud.com)... 185.235.236.200\n",
      "Connecting to public.boxcloud.com (public.boxcloud.com)|185.235.236.200|:443... connected.\n",
      "HTTP request sent, awaiting response... 200 OK\n",
      "Length: 2891 (2.8K) [text/csv]\n",
      "Saving to: ‘Geospatial_data.4’\n",
      "\n",
      "100%[======================================>] 2,891       --.-K/s   in 0s      \n",
      "\n",
      "2020-06-18 23:50:22 (275 MB/s) - ‘Geospatial_data.4’ saved [2891/2891]\n",
      "\n",
      "Data downloaded\n"
     ]
    }
   ],
   "source": [
    "# importing libraries\n",
    "\n",
    "# using CSV file with geospatial data\n",
    "!wget http://cocl.us/Geospatial_data\n",
    "print('Data downloaded')"
   ]
  },
  {
   "cell_type": "code",
   "execution_count": 43,
   "metadata": {},
   "outputs": [
    {
     "data": {
      "text/html": [
       "<div>\n",
       "<style scoped>\n",
       "    .dataframe tbody tr th:only-of-type {\n",
       "        vertical-align: middle;\n",
       "    }\n",
       "\n",
       "    .dataframe tbody tr th {\n",
       "        vertical-align: top;\n",
       "    }\n",
       "\n",
       "    .dataframe thead th {\n",
       "        text-align: right;\n",
       "    }\n",
       "</style>\n",
       "<table border=\"1\" class=\"dataframe\">\n",
       "  <thead>\n",
       "    <tr style=\"text-align: right;\">\n",
       "      <th></th>\n",
       "      <th>Postcode</th>\n",
       "      <th>Latitude</th>\n",
       "      <th>Longitude</th>\n",
       "    </tr>\n",
       "  </thead>\n",
       "  <tbody>\n",
       "    <tr>\n",
       "      <th>0</th>\n",
       "      <td>M1B</td>\n",
       "      <td>43.806686</td>\n",
       "      <td>-79.194353</td>\n",
       "    </tr>\n",
       "    <tr>\n",
       "      <th>1</th>\n",
       "      <td>M1C</td>\n",
       "      <td>43.784535</td>\n",
       "      <td>-79.160497</td>\n",
       "    </tr>\n",
       "    <tr>\n",
       "      <th>2</th>\n",
       "      <td>M1E</td>\n",
       "      <td>43.763573</td>\n",
       "      <td>-79.188711</td>\n",
       "    </tr>\n",
       "    <tr>\n",
       "      <th>3</th>\n",
       "      <td>M1G</td>\n",
       "      <td>43.770992</td>\n",
       "      <td>-79.216917</td>\n",
       "    </tr>\n",
       "    <tr>\n",
       "      <th>4</th>\n",
       "      <td>M1H</td>\n",
       "      <td>43.773136</td>\n",
       "      <td>-79.239476</td>\n",
       "    </tr>\n",
       "  </tbody>\n",
       "</table>\n",
       "</div>"
      ],
      "text/plain": [
       "  Postcode   Latitude  Longitude\n",
       "0      M1B  43.806686 -79.194353\n",
       "1      M1C  43.784535 -79.160497\n",
       "2      M1E  43.763573 -79.188711\n",
       "3      M1G  43.770992 -79.216917\n",
       "4      M1H  43.773136 -79.239476"
      ]
     },
     "execution_count": 43,
     "metadata": {},
     "output_type": "execute_result"
    }
   ],
   "source": [
    "# converting CSV into dataframe\n",
    "df_location = pd.read_csv('Geospatial_data')\n",
    "df_location.columns = ['Postcode', 'Latitude', 'Longitude']\n",
    "\n",
    "df_location.head()"
   ]
  },
  {
   "cell_type": "markdown",
   "metadata": {},
   "source": [
    "## The below cells merge the neighborhoods in Toronto with their geospatial locations"
   ]
  },
  {
   "cell_type": "code",
   "execution_count": 46,
   "metadata": {},
   "outputs": [
    {
     "data": {
      "text/html": [
       "<div>\n",
       "<style scoped>\n",
       "    .dataframe tbody tr th:only-of-type {\n",
       "        vertical-align: middle;\n",
       "    }\n",
       "\n",
       "    .dataframe tbody tr th {\n",
       "        vertical-align: top;\n",
       "    }\n",
       "\n",
       "    .dataframe thead th {\n",
       "        text-align: right;\n",
       "    }\n",
       "</style>\n",
       "<table border=\"1\" class=\"dataframe\">\n",
       "  <thead>\n",
       "    <tr style=\"text-align: right;\">\n",
       "      <th></th>\n",
       "      <th>Postal Code</th>\n",
       "      <th>Borough</th>\n",
       "      <th>Neighborhood</th>\n",
       "      <th>Latitude</th>\n",
       "      <th>Longitude</th>\n",
       "    </tr>\n",
       "  </thead>\n",
       "  <tbody>\n",
       "    <tr>\n",
       "      <th>0</th>\n",
       "      <td>M4N</td>\n",
       "      <td>Central Toronto</td>\n",
       "      <td>Lawrence Park</td>\n",
       "      <td>43.728020</td>\n",
       "      <td>-79.388790</td>\n",
       "    </tr>\n",
       "    <tr>\n",
       "      <th>1</th>\n",
       "      <td>M4P</td>\n",
       "      <td>Central Toronto</td>\n",
       "      <td>Davisville North</td>\n",
       "      <td>43.712751</td>\n",
       "      <td>-79.390197</td>\n",
       "    </tr>\n",
       "    <tr>\n",
       "      <th>2</th>\n",
       "      <td>M4R</td>\n",
       "      <td>Central Toronto</td>\n",
       "      <td>North Toronto West, Lawrence Park</td>\n",
       "      <td>43.715383</td>\n",
       "      <td>-79.405678</td>\n",
       "    </tr>\n",
       "    <tr>\n",
       "      <th>3</th>\n",
       "      <td>M4S</td>\n",
       "      <td>Central Toronto</td>\n",
       "      <td>Davisville</td>\n",
       "      <td>43.704324</td>\n",
       "      <td>-79.388790</td>\n",
       "    </tr>\n",
       "    <tr>\n",
       "      <th>4</th>\n",
       "      <td>M4T</td>\n",
       "      <td>Central Toronto</td>\n",
       "      <td>Moore Park, Summerhill East</td>\n",
       "      <td>43.689574</td>\n",
       "      <td>-79.383160</td>\n",
       "    </tr>\n",
       "  </tbody>\n",
       "</table>\n",
       "</div>"
      ],
      "text/plain": [
       "  Postal Code          Borough                       Neighborhood   Latitude  \\\n",
       "0         M4N  Central Toronto                      Lawrence Park  43.728020   \n",
       "1         M4P  Central Toronto                   Davisville North  43.712751   \n",
       "2         M4R  Central Toronto  North Toronto West, Lawrence Park  43.715383   \n",
       "3         M4S  Central Toronto                         Davisville  43.704324   \n",
       "4         M4T  Central Toronto        Moore Park, Summerhill East  43.689574   \n",
       "\n",
       "   Longitude  \n",
       "0 -79.388790  \n",
       "1 -79.390197  \n",
       "2 -79.405678  \n",
       "3 -79.388790  \n",
       "4 -79.383160  "
      ]
     },
     "execution_count": 46,
     "metadata": {},
     "output_type": "execute_result"
    }
   ],
   "source": [
    "# Merge new location data with original Toronto locations\n",
    "\n",
    "merged_df = pd.merge(dffinal, df_location, \n",
    "                     left_on = 'Postal Code', \n",
    "                     right_on = 'Postcode', \n",
    "                     how='left')\n",
    "\n",
    "\n",
    "# Remove duplicate Postcode from location DF \n",
    "merged_df.drop(['Postcode'], axis = 1, inplace = True) \n",
    "merged_df.head()"
   ]
  }
 ],
 "metadata": {
  "kernelspec": {
   "display_name": "Python 3.6",
   "language": "python",
   "name": "python3"
  },
  "language_info": {
   "codemirror_mode": {
    "name": "ipython",
    "version": 3
   },
   "file_extension": ".py",
   "mimetype": "text/x-python",
   "name": "python",
   "nbconvert_exporter": "python",
   "pygments_lexer": "ipython3",
   "version": "3.6.9"
  }
 },
 "nbformat": 4,
 "nbformat_minor": 1
}
